{
  "nbformat": 4,
  "nbformat_minor": 0,
  "metadata": {
    "colab": {
      "provenance": []
    },
    "kernelspec": {
      "name": "python3",
      "display_name": "Python 3"
    },
    "language_info": {
      "name": "python"
    }
  },
  "cells": [
    {
      "cell_type": "code",
      "execution_count": 1,
      "metadata": {
        "id": "MymeXfndyxv5"
      },
      "outputs": [],
      "source": [
        "import pandas as pd\n",
        "import joblib\n",
        "from sklearn.feature_extraction.text import TfidfVectorizer"
      ]
    },
    {
      "cell_type": "code",
      "source": [
        "df = pd.read_csv(\"movie_metadata.csv\")"
      ],
      "metadata": {
        "id": "yK5b-Bj7yytx"
      },
      "execution_count": 2,
      "outputs": []
    },
    {
      "cell_type": "code",
      "source": [
        "columns_to_keep = [\n",
        "    'movie_title',\n",
        "    'genres',\n",
        "    'plot_keywords',\n",
        "    'actor_1_name',\n",
        "    'actor_2_name',\n",
        "    'actor_3_name',\n",
        "    'director_name'\n",
        "]"
      ],
      "metadata": {
        "id": "mRFxRToQy1fY"
      },
      "execution_count": 3,
      "outputs": []
    },
    {
      "cell_type": "code",
      "source": [
        "df = df[columns_to_keep].fillna('')"
      ],
      "metadata": {
        "id": "xPDBGKePy28q"
      },
      "execution_count": 4,
      "outputs": []
    },
    {
      "cell_type": "code",
      "source": [
        "def clean_text(text):\n",
        "    return str(text).replace('\\xa0', ' ').replace('|', ' ').strip().lower()\n",
        "\n",
        "for col in columns_to_keep:\n",
        "    df[col] = df[col].apply(clean_text)"
      ],
      "metadata": {
        "id": "iFmjadyAy4Cq"
      },
      "execution_count": 5,
      "outputs": []
    },
    {
      "cell_type": "code",
      "source": [
        "df['combined_features'] = df.apply(lambda row: f\"{row['genres']} {row['plot_keywords']} {row['actor_1_name']} {row['actor_2_name']} {row['actor_3_name']} {row['director_name']}\", axis=1)"
      ],
      "metadata": {
        "id": "MGv803EIy5K0"
      },
      "execution_count": 6,
      "outputs": []
    },
    {
      "cell_type": "code",
      "source": [
        "tfidf = TfidfVectorizer(stop_words='english')\n",
        "tfidf_matrix = tfidf.fit_transform(df['combined_features'])"
      ],
      "metadata": {
        "id": "1mo_P2oOy7vq"
      },
      "execution_count": 7,
      "outputs": []
    },
    {
      "cell_type": "code",
      "source": [
        "df.to_csv(\"movies_cleaned.csv\", index=False)\n",
        "joblib.dump(tfidf, \"tfidf_vectorizer.pkl\")\n",
        "joblib.dump(tfidf_matrix, \"tfidf_matrix.pkl\")"
      ],
      "metadata": {
        "colab": {
          "base_uri": "https://localhost:8080/"
        },
        "id": "W1c9u_uay9Va",
        "outputId": "bdc7c475-5cd6-4ebe-9448-8982f10c84ee"
      },
      "execution_count": 8,
      "outputs": [
        {
          "output_type": "execute_result",
          "data": {
            "text/plain": [
              "['tfidf_matrix.pkl']"
            ]
          },
          "metadata": {},
          "execution_count": 8
        }
      ]
    }
  ]
}